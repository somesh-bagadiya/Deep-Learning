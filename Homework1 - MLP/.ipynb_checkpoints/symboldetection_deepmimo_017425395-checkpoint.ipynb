{
 "cells": [
  {
   "cell_type": "code",
   "execution_count": 1,
   "metadata": {
    "id": "OPyC1GQrlJTf"
   },
   "outputs": [],
   "source": [
    "import numpy as np\n",
    "import torch\n",
    "import torch.nn as nn\n",
    "from torch.utils.data import Dataset\n",
    "from torch.utils.data import DataLoader\n",
    "import matplotlib.pyplot as plt"
   ]
  },
  {
   "cell_type": "code",
   "execution_count": 2,
   "metadata": {},
   "outputs": [
    {
     "name": "stdout",
     "output_type": "stream",
     "text": [
      "Sat Feb 24 14:40:19 2024       \n",
      "+-----------------------------------------------------------------------------------------+\n",
      "| NVIDIA-SMI 551.52                 Driver Version: 551.52         CUDA Version: 12.4     |\n",
      "|-----------------------------------------+------------------------+----------------------+\n",
      "| GPU  Name                     TCC/WDDM  | Bus-Id          Disp.A | Volatile Uncorr. ECC |\n",
      "| Fan  Temp   Perf          Pwr:Usage/Cap |           Memory-Usage | GPU-Util  Compute M. |\n",
      "|                                         |                        |               MIG M. |\n",
      "|=========================================+========================+======================|\n",
      "|   0  NVIDIA GeForce GTX 1060 ...  WDDM  |   00000000:01:00.0 Off |                  N/A |\n",
      "| N/A   41C    P8              4W /   60W |       0MiB /   6144MiB |      0%      Default |\n",
      "|                                         |                        |                  N/A |\n",
      "+-----------------------------------------+------------------------+----------------------+\n",
      "                                                                                         \n",
      "+-----------------------------------------------------------------------------------------+\n",
      "| Processes:                                                                              |\n",
      "|  GPU   GI   CI        PID   Type   Process name                              GPU Memory |\n",
      "|        ID   ID                                                               Usage      |\n",
      "|=========================================================================================|\n",
      "|    0   N/A  N/A      1520    C+G   C:\\Windows\\System32\\dwm.exe                 N/A      |\n",
      "|    0   N/A  N/A     20752    C+G   ...\\cef\\cef.win7x64\\steamwebhelper.exe      N/A      |\n",
      "+-----------------------------------------------------------------------------------------+\n"
     ]
    }
   ],
   "source": [
    "!nvidia-smi"
   ]
  },
  {
   "cell_type": "code",
   "execution_count": 3,
   "metadata": {},
   "outputs": [
    {
     "data": {
      "text/plain": [
       "device(type='cuda', index=0)"
      ]
     },
     "execution_count": 3,
     "metadata": {},
     "output_type": "execute_result"
    }
   ],
   "source": [
    "torch.device('cuda:'+str(0)) "
   ]
  },
  {
   "cell_type": "code",
   "execution_count": 4,
   "metadata": {},
   "outputs": [
    {
     "data": {
      "text/plain": [
       "True"
      ]
     },
     "execution_count": 4,
     "metadata": {},
     "output_type": "execute_result"
    }
   ],
   "source": [
    "torch.cuda.is_available()"
   ]
  },
  {
   "cell_type": "code",
   "execution_count": 5,
   "metadata": {
    "id": "tMzByaQVlJTk"
   },
   "outputs": [],
   "source": [
    "def pam_gray(b):\n",
    "    if len(b)>1:\n",
    "        return (1-2*b[0])*(2**len(b[1:]) - pam_gray(b[1:]))\n",
    "    return 1-2*b[0]\n",
    "\n",
    "def qam(num_bits_per_symbol, normalize=True):\n",
    "    try:\n",
    "        assert num_bits_per_symbol % 2 == 0 # is even\n",
    "        assert num_bits_per_symbol >0 # is larger than zero\n",
    "    except AssertionError as error:\n",
    "        raise ValueError(\"num_bits_per_symbol must be a multiple of 2\") \\\n",
    "        from error\n",
    "    assert isinstance(normalize, bool), \"normalize must be boolean\"\n",
    "\n",
    "    # Build constellation by iterating through all points\n",
    "    c = np.zeros([2**num_bits_per_symbol], dtype=np.complex64)\n",
    "    for i in range(0, 2**num_bits_per_symbol):\n",
    "        b = np.array(list(np.binary_repr(i,num_bits_per_symbol)),\n",
    "                     dtype=np.int16)\n",
    "        c[i] = pam_gray(b[0::2]) + 1j*pam_gray(b[1::2]) # PAM in each dimension\n",
    "\n",
    "    if normalize: # Normalize to unit energy\n",
    "        n = int(num_bits_per_symbol/2)\n",
    "        qam_var = 1/(2**(n-2))*np.sum(np.linspace(1,2**n-1, 2**(n-1))**2)\n",
    "        c /= np.sqrt(qam_var)\n",
    "    return c\n",
    "\n",
    "def CreateConstellation(constellation_type, num_bits_per_symbol,normalize=True):\n",
    "    num_bits_per_symbol = int(num_bits_per_symbol)\n",
    "    if constellation_type==\"qam\":\n",
    "        assert num_bits_per_symbol%2 == 0 and num_bits_per_symbol>0,\\\n",
    "            \"num_bits_per_symbol must be a multiple of 2\"\n",
    "        num_bits_per_symbol = int(num_bits_per_symbol)\n",
    "\n",
    "        points = qam(num_bits_per_symbol, normalize=normalize)\n",
    "    return points"
   ]
  },
  {
   "cell_type": "code",
   "execution_count": 6,
   "metadata": {
    "id": "bsVLZrhklJTl"
   },
   "outputs": [],
   "source": [
    "def show(points, num_bits_per_symbol, labels=True, figsize=(7,7)):\n",
    "    \"\"\"Generate a scatter-plot of the constellation.\n",
    "\n",
    "    Input\n",
    "    -----\n",
    "    labels : bool\n",
    "        If `True`, the bit labels will be drawn next to each constellation\n",
    "        point. Defaults to `True`.\n",
    "\n",
    "    figsize : Two-element Tuple, float\n",
    "        Width and height in inches. Defaults to `(7,7)`.\n",
    "\n",
    "    Output\n",
    "    ------\n",
    "    : matplotlib.figure.Figure\n",
    "        A handle to a matplot figure object.\n",
    "    \"\"\"\n",
    "    maxval = np.max(np.abs(points))*1.05\n",
    "    fig = plt.figure(figsize=figsize)\n",
    "    ax = fig.add_subplot(111)\n",
    "    plt.xlim(-maxval, maxval)\n",
    "    plt.ylim(-maxval, maxval)\n",
    "    plt.scatter(np.real(points), np.imag(points))\n",
    "    ax.set_aspect(\"equal\", adjustable=\"box\")\n",
    "    plt.xlabel(\"Real Part\")\n",
    "    plt.ylabel(\"Imaginary Part\")\n",
    "    plt.grid(True, which=\"both\", axis=\"both\")\n",
    "    plt.title(\"Constellation Plot\")\n",
    "    if labels is True:\n",
    "        for j, p in enumerate(points):\n",
    "            plt.annotate(\n",
    "                np.binary_repr(j, num_bits_per_symbol),\n",
    "                (np.real(p), np.imag(p))\n",
    "            )\n",
    "    return fig"
   ]
  },
  {
   "cell_type": "code",
   "execution_count": 7,
   "metadata": {
    "colab": {
     "base_uri": "https://localhost:8080/"
    },
    "id": "V5zg58FzlJTm",
    "outputId": "11686f37-cbc1-4192-d453-f40d02b3ac21"
   },
   "outputs": [
    {
     "data": {
      "text/plain": [
       "(16,)"
      ]
     },
     "execution_count": 7,
     "metadata": {},
     "output_type": "execute_result"
    }
   ],
   "source": [
    "NUM_BITS_PER_SYMBOL = 4 # QPSK: 2, QAM16\n",
    "points = CreateConstellation(\"qam\", NUM_BITS_PER_SYMBOL)\n",
    "points.shape"
   ]
  },
  {
   "cell_type": "code",
   "execution_count": 8,
   "metadata": {
    "colab": {
     "base_uri": "https://localhost:8080/",
     "height": 1000
    },
    "id": "vPA6qnNalJTn",
    "outputId": "41b7a820-eecf-4dad-9da1-d1de3bc786bc"
   },
   "outputs": [
    {
     "data": {
      "image/png": "[encoded data removed]",
      "text/plain": [
       "<Figure size 700x700 with 1 Axes>"
      ]
     },
     "execution_count": 8,
     "metadata": {},
     "output_type": "execute_result"
    },
    {
     "data": {
      "image/png": "[encoded data removed]",
      "text/plain": [
       "<Figure size 700x700 with 1 Axes>"
      ]
     },
     "metadata": {},
     "output_type": "display_data"
    }
   ],
   "source": [
    "show(points, NUM_BITS_PER_SYMBOL)"
   ]
  },
  {
   "cell_type": "code",
   "execution_count": 9,
   "metadata": {
    "id": "PIlejL1olJTo"
   },
   "outputs": [],
   "source": [
    "def BinarySource(shape):\n",
    "    return np.random.randint(2, size=shape).astype(np.float32)"
   ]
  },
  {
   "cell_type": "code",
   "execution_count": 10,
   "metadata": {
    "id": "Zv4xXaiIlJTo"
   },
   "outputs": [],
   "source": [
    "def complex_normal(shape, var=1.0):\n",
    "    stddev = np.sqrt(var/2)\n",
    "    xr = np.random.normal(loc=0.0, scale=stddev, size=shape)\n",
    "    xi = np.random.normal(loc=0.0, scale=stddev, size=shape)\n",
    "    x = xr + 1j*xi\n",
    "    return x"
   ]
  },
  {
   "cell_type": "code",
   "execution_count": 11,
   "metadata": {
    "id": "XCMGe3fVlJTo"
   },
   "outputs": [],
   "source": [
    "class Mapper:\n",
    "    def __init__(self,\n",
    "                 constellation_type=None,\n",
    "                 num_bits_per_symbol=None,\n",
    "                 constellation=None,\n",
    "                 return_indices=False,\n",
    "                 #dtype=tf.complex64,\n",
    "                 #**kwargs\n",
    "                ):\n",
    "          self.num_bits_per_symbol = num_bits_per_symbol\n",
    "          self.binary_base = 2**np.arange(num_bits_per_symbol-1, -1, -1, dtype=int) #array([2, 1], dtype=int32)\n",
    "          self.points = CreateConstellation(constellation_type, num_bits_per_symbol) #(4,)\n",
    "\n",
    "    def create_symbol(self, inputs):\n",
    "        #inputs: (64, 1024) #batch_size, bits len\n",
    "        new_shape = [-1] + [int(inputs.shape[-1] / self.num_bits_per_symbol), self.num_bits_per_symbol] #[-1, 512, 2]\n",
    "        reinputs_reshaped = np.reshape(inputs, new_shape) #(64, 512, 2)\n",
    "        # Convert the last dimension to an integer\n",
    "        int_rep = reinputs_reshaped * self.binary_base #(64, 512, 2)\n",
    "        int_rep = np.sum(int_rep, axis=-1) #(64, 512)\n",
    "        int_rep = int_rep.astype(np.int32)\n",
    "        #print(int_rep.shape)\n",
    "        # Map integers to constellation symbols\n",
    "        #x = tf.gather(self.points, int_rep, axis=0)\n",
    "        symbs_list = [self.points[val_int] for val_int in int_rep]\n",
    "        symbols=np.array(symbs_list) #(64, 512) complex64\n",
    "        #print(symbols.dtype)\n",
    "        return symbols"
   ]
  },
  {
   "cell_type": "code",
   "execution_count": 12,
   "metadata": {
    "id": "H0Cww8AHlJTp"
   },
   "outputs": [],
   "source": [
    "def ebnodb2no(ebno_db, num_bits_per_symbol, coderate):\n",
    "    r\"\"\"Compute the noise variance `No` for a given `Eb/No` in dB.\n",
    "    Input\n",
    "    -----\n",
    "    ebno_db : float\n",
    "        The `Eb/No` value in dB.\n",
    "\n",
    "    num_bits_per_symbol : int\n",
    "        The number of bits per symbol.\n",
    "\n",
    "    coderate : float\n",
    "        The coderate used.\n",
    "\n",
    "    Output\n",
    "    ------\n",
    "    : float\n",
    "        The value of :math:`N_o` in linear scale.\n",
    "    \"\"\"\n",
    "    #ebno = tf.math.pow(tf.cast(10., dtype), ebno_db/10.)\n",
    "    ebno = np.power(10, ebno_db/10.0)\n",
    "    energy_per_symbol = 1\n",
    "    tmp= (ebno * coderate * float(num_bits_per_symbol)) / float(energy_per_symbol)\n",
    "    n0 = 1/tmp\n",
    "    return n0"
   ]
  },
  {
   "cell_type": "code",
   "execution_count": 13,
   "metadata": {
    "id": "Kyx7XUG3lJTp"
   },
   "outputs": [],
   "source": [
    "# custom dataset\n",
    "class ComplexDataset(Dataset):\n",
    "    def __init__(self, num_bits_per_symbol, Frame_SIZE=64, Blocklength = 1024, DB_MIN=-10, DB_MAX=20, totaldbs=2000, constellation_type=\"qam\", data_type=np.complex64):\n",
    "        self.points = CreateConstellation(constellation_type, num_bits_per_symbol)\n",
    "        print(self.points.shape) #(4,) complex64\n",
    "        self.shape = ([Frame_SIZE, Blocklength])# Blocklength [64, 1024]\n",
    "        self.constellation_type = constellation_type\n",
    "        self.num_bits_per_symbol = num_bits_per_symbol\n",
    "        self.data_type = data_type\n",
    "        self.mapper=Mapper(constellation_type=constellation_type, num_bits_per_symbol=num_bits_per_symbol)\n",
    "\n",
    "        ebno_dbs=np.linspace(DB_MIN, DB_MAX, totaldbs)\n",
    "        np.random.shuffle(ebno_dbs)\n",
    "        self.ebno_dbs = ebno_dbs\n",
    "\n",
    "    def __getitem__(self, index):\n",
    "        ebno_db = self.ebno_dbs[index]\n",
    "\n",
    "        bits = BinarySource(self.shape)\n",
    "        #print(\"Shape of bits: \", bits.shape) #(64, 1024)\n",
    "\n",
    "        x=self.mapper.create_symbol(bits) #(64, 512) complex64\n",
    "\n",
    "        n0=ebnodb2no(ebno_db=ebno_db, num_bits_per_symbol=self.num_bits_per_symbol, coderate=1.0) #scalar 0.05\n",
    "        noise=complex_normal(x.shape, 1.0) #(64, 512) complex128\n",
    "        #print(noise.dtype)\n",
    "        noise = noise.astype(self.data_type)\n",
    "        noise *= np.sqrt(n0)\n",
    "        y=x+noise #(64, 512)\n",
    "        signal_complex = torch.from_numpy(y)\n",
    "\n",
    "        batch={}\n",
    "        batch['samples']=signal_complex #(64, 512)\n",
    "        batch['labels']=bits #(64, 1024)\n",
    "        return batch\n",
    "\n",
    "    def __len__(self):\n",
    "        return len(self.ebno_dbs)"
   ]
  },
  {
   "cell_type": "code",
   "execution_count": 14,
   "metadata": {
    "colab": {
     "base_uri": "https://localhost:8080/"
    },
    "id": "jgF2F5RwlJTq",
    "outputId": "10137a00-ace2-486c-a1ab-3747ba4b6218"
   },
   "outputs": [
    {
     "name": "stdout",
     "output_type": "stream",
     "text": [
      "(16,)\n"
     ]
    }
   ],
   "source": [
    "# @title DATASET Generator Parameters\n",
    "NUM_BITS_PER_SYMBOL = 4\n",
    "BATCH_SIZE = 16\n",
    "Frame_SIZE = 64\n",
    "Blocklength = 1024\n",
    "DB_MIN = -20\n",
    "DB_MAX = 20\n",
    "dataset = ComplexDataset(num_bits_per_symbol=NUM_BITS_PER_SYMBOL, Frame_SIZE=Frame_SIZE, Blocklength=Blocklength, DB_MIN=DB_MIN, DB_MAX=DB_MAX, totaldbs=BATCH_SIZE*100)"
   ]
  },
  {
   "cell_type": "code",
   "execution_count": 15,
   "metadata": {
    "id": "tzGvXeQMlJTq"
   },
   "outputs": [],
   "source": [
    "onesample = dataset[0]"
   ]
  },
  {
   "cell_type": "code",
   "execution_count": 16,
   "metadata": {
    "colab": {
     "base_uri": "https://localhost:8080/"
    },
    "id": "jlD7JG1mlJTq",
    "outputId": "009b0e74-eb3d-40f6-a571-7c2b503f5c16"
   },
   "outputs": [
    {
     "data": {
      "text/plain": [
       "dict_keys(['samples', 'labels'])"
      ]
     },
     "execution_count": 16,
     "metadata": {},
     "output_type": "execute_result"
    }
   ],
   "source": [
    "onesample.keys()"
   ]
  },
  {
   "cell_type": "code",
   "execution_count": 17,
   "metadata": {
    "colab": {
     "base_uri": "https://localhost:8080/"
    },
    "id": "HbwNWJE8lJTq",
    "outputId": "65817c0f-f201-4e9d-c4c5-376eb68429dc"
   },
   "outputs": [
    {
     "data": {
      "text/plain": [
       "torch.Size([64, 256])"
      ]
     },
     "execution_count": 17,
     "metadata": {},
     "output_type": "execute_result"
    }
   ],
   "source": [
    "onesample['samples'].shape"
   ]
  },
  {
   "cell_type": "code",
   "execution_count": 18,
   "metadata": {
    "colab": {
     "base_uri": "https://localhost:8080/"
    },
    "id": "p-3L09aolJTr",
    "outputId": "32b9d1c5-b540-4b7d-d48e-9ab44750cbb4"
   },
   "outputs": [
    {
     "data": {
      "text/plain": [
       "(64, 1024)"
      ]
     },
     "execution_count": 18,
     "metadata": {},
     "output_type": "execute_result"
    }
   ],
   "source": [
    "onesample['labels'].shape"
   ]
  },
  {
   "cell_type": "code",
   "execution_count": 19,
   "metadata": {
    "id": "mKlnOrxAlJTr"
   },
   "outputs": [],
   "source": [
    "# train, validation and test split\n",
    "train_size = int(0.8 * len(dataset))\n",
    "val_size = len(dataset) - train_size\n",
    "train_set, val_set= torch.utils.data.random_split(dataset, [train_size, val_size])\n",
    "\n",
    "# dataloaders\n",
    "train_loader = DataLoader(dataset=train_set, batch_size=BATCH_SIZE, shuffle=True, pin_memory=True)\n",
    "val_loader = DataLoader(dataset=val_set, batch_size=1, shuffle=True, pin_memory=True)\n"
   ]
  },
  {
   "cell_type": "code",
   "execution_count": 20,
   "metadata": {
    "id": "igKfOo68lJTr"
   },
   "outputs": [],
   "source": [
    "onebatch = next(iter(val_loader))"
   ]
  },
  {
   "cell_type": "code",
   "execution_count": 21,
   "metadata": {
    "colab": {
     "base_uri": "https://localhost:8080/"
    },
    "id": "ojwON5IQlJTr",
    "outputId": "2b354043-fdde-4da9-b007-ce290c6bf0cd"
   },
   "outputs": [
    {
     "data": {
      "text/plain": [
       "torch.Size([1, 64, 256])"
      ]
     },
     "execution_count": 21,
     "metadata": {},
     "output_type": "execute_result"
    }
   ],
   "source": [
    "onebatch['samples'].shape"
   ]
  },
  {
   "cell_type": "code",
   "execution_count": 22,
   "metadata": {
    "id": "TnHCuexSlJTr"
   },
   "outputs": [],
   "source": [
    "onebatch = next(iter(train_loader))"
   ]
  },
  {
   "cell_type": "code",
   "execution_count": 23,
   "metadata": {
    "colab": {
     "base_uri": "https://localhost:8080/"
    },
    "id": "5CqPBO0flJTr",
    "outputId": "1b0aa5cd-2e5b-4e0a-bda1-a78bb1bdb853"
   },
   "outputs": [
    {
     "data": {
      "text/plain": [
       "torch.Size([16, 64, 256])"
      ]
     },
     "execution_count": 23,
     "metadata": {},
     "output_type": "execute_result"
    }
   ],
   "source": [
    "onebatch['samples'].shape"
   ]
  },
  {
   "cell_type": "code",
   "execution_count": 24,
   "metadata": {
    "colab": {
     "base_uri": "https://localhost:8080/"
    },
    "id": "G8G7nJwBlJTs",
    "outputId": "5a4f251f-c11e-44cd-8441-7d36fbe369d7"
   },
   "outputs": [
    {
     "name": "stdout",
     "output_type": "stream",
     "text": [
      "Using device: cuda:0\n"
     ]
    }
   ],
   "source": [
    "gpuid=0\n",
    "if torch.cuda.is_available():\n",
    "    device = torch.device('cuda:'+str(gpuid))  # CUDA GPU 0\n",
    "elif torch.backends.mps.is_available():\n",
    "    device = torch.device(\"mps\")\n",
    "else:\n",
    "    device = torch.device(\"cpu\")\n",
    "print(\"Using device:\", device)"
   ]
  },
  {
   "cell_type": "code",
   "execution_count": 25,
   "metadata": {
    "id": "CYbGsX7tlJTs"
   },
   "outputs": [],
   "source": [
    "# @title Model Details\n",
    "class Simplemodel(nn.Module):\n",
    "\n",
    "    def __init__(self, num_bits_per_symbol, H=64, W=512):\n",
    "        super(Simplemodel, self).__init__()\n",
    "        scale = 8\n",
    "        self.linear1=nn.Linear(in_features=2, out_features=scale*num_bits_per_symbol)\n",
    "        self.linear2=nn.Linear(in_features=scale*num_bits_per_symbol, out_features=scale*num_bits_per_symbol)\n",
    "        self.linear3=nn.Linear(in_features=scale*num_bits_per_symbol, out_features=num_bits_per_symbol)\n",
    "        self.activation = nn.Tanh()\n",
    "\n",
    "    def forward(self, inputs):\n",
    "        y = inputs #[64, 64, 512]\n",
    "\n",
    "        # Stack the tensors along a new dimension (axis 0)\n",
    "        z = torch.stack([y.real, y.imag], dim=0) #[2, 64, 64, 512]\n",
    "        z = z.permute(1, 2, 3, 0) #[64, 64, 512, 2]\n",
    "        z = self.linear1(z)\n",
    "        z = self.activation(z)\n",
    "        z = self.linear2(z)\n",
    "        z = self.activation(z)\n",
    "        z = self.linear3(z)\n",
    "        z = nn.Sigmoid()(z) #[64, 64, 512, num_bits_per_symbol]\n",
    "        z = z.flatten(-2, -1) #combine last two dimension => [64, 64, 512*num_bits_per_symbol]\n",
    "        return z"
   ]
  },
  {
   "cell_type": "code",
   "execution_count": 26,
   "metadata": {
    "id": "-RVA1UtUlJTs"
   },
   "outputs": [],
   "source": [
    "model = Simplemodel(num_bits_per_symbol=NUM_BITS_PER_SYMBOL, H=Frame_SIZE, W=Blocklength)"
   ]
  },
  {
   "cell_type": "code",
   "execution_count": 27,
   "metadata": {
    "id": "MpAMGbavlJTs"
   },
   "outputs": [],
   "source": [
    "output = model(onebatch['samples']) #[32, 64, 512] =>[32, 64, 1024]"
   ]
  },
  {
   "cell_type": "code",
   "execution_count": 28,
   "metadata": {
    "colab": {
     "base_uri": "https://localhost:8080/"
    },
    "id": "qP1zkG3FlJTs",
    "outputId": "0cdca1f9-be88-4d79-b965-f1a9ab11c556"
   },
   "outputs": [
    {
     "data": {
      "text/plain": [
       "torch.Size([16, 64, 1024])"
      ]
     },
     "execution_count": 28,
     "metadata": {},
     "output_type": "execute_result"
    }
   ],
   "source": [
    "output.shape"
   ]
  },
  {
   "cell_type": "code",
   "execution_count": 29,
   "metadata": {
    "colab": {
     "base_uri": "https://localhost:8080/"
    },
    "id": "PMpPGsn9lJTt",
    "outputId": "a101c0fe-a91b-4c32-8def-7de66582b4d8"
   },
   "outputs": [
    {
     "data": {
      "text/plain": [
       "torch.float32"
      ]
     },
     "execution_count": 29,
     "metadata": {},
     "output_type": "execute_result"
    }
   ],
   "source": [
    "output.dtype"
   ]
  },
  {
   "cell_type": "code",
   "execution_count": 30,
   "metadata": {
    "id": "LRFJMzVTlJTt"
   },
   "outputs": [],
   "source": [
    "# @title Optimizer and Loss Function\n",
    "# Setup loss and optimizer pip install ipywidgets\n",
    "loss_fn = nn.BCEWithLogitsLoss() #nn.BCELoss()\n",
    "optimizer = torch.optim.SGD(model.parameters(), lr=0.15)"
   ]
  },
  {
   "cell_type": "code",
   "execution_count": 31,
   "metadata": {
    "id": "Xq6cZkq6lJTt"
   },
   "outputs": [],
   "source": [
    "test=torch.tensor([0,0,0,1,1,1], dtype=torch.float)"
   ]
  },
  {
   "cell_type": "code",
   "execution_count": 32,
   "metadata": {
    "colab": {
     "base_uri": "https://localhost:8080/"
    },
    "id": "JUmo-u5zlJTt",
    "outputId": "668bf553-4994-42d4-9700-33f56e405709"
   },
   "outputs": [
    {
     "data": {
      "text/plain": [
       "tensor(0.5032)"
      ]
     },
     "execution_count": 32,
     "metadata": {},
     "output_type": "execute_result"
    }
   ],
   "source": [
    "loss_fn(test,test)"
   ]
  },
  {
   "cell_type": "code",
   "execution_count": 33,
   "metadata": {
    "colab": {
     "base_uri": "https://localhost:8080/"
    },
    "id": "EhLrM70SlJTt",
    "outputId": "f02ef663-4262-4582-8ead-3a966eefd8a2"
   },
   "outputs": [
    {
     "data": {
      "text/plain": [
       "torch.float32"
      ]
     },
     "execution_count": 33,
     "metadata": {},
     "output_type": "execute_result"
    }
   ],
   "source": [
    "onebatch['labels'].dtype"
   ]
  },
  {
   "cell_type": "code",
   "execution_count": 34,
   "metadata": {
    "colab": {
     "base_uri": "https://localhost:8080/"
    },
    "id": "D8DykhajlJTt",
    "outputId": "43ecec06-cf42-4f34-9856-b6665ef18f0d"
   },
   "outputs": [
    {
     "data": {
      "text/plain": [
       "tensor(0.7272, grad_fn=<BinaryCrossEntropyWithLogitsBackward0>)"
      ]
     },
     "execution_count": 34,
     "metadata": {},
     "output_type": "execute_result"
    }
   ],
   "source": [
    "loss_fn(output,onebatch['labels'])"
   ]
  },
  {
   "cell_type": "code",
   "execution_count": 35,
   "metadata": {
    "colab": {
     "base_uri": "https://localhost:8080/"
    },
    "id": "ikpY7vntlJTu",
    "outputId": "97abe070-b967-464a-cf50-0e1a05e686b7"
   },
   "outputs": [
    {
     "name": "stdout",
     "output_type": "stream",
     "text": [
      "Trainoutput folder: output\\exp0212\n"
     ]
    }
   ],
   "source": [
    "import os\n",
    "trainoutput=os.path.join('output','exp0212')\n",
    "os.makedirs(trainoutput, exist_ok=True)\n",
    "print(\"Trainoutput folder:\", trainoutput)"
   ]
  },
  {
   "cell_type": "code",
   "execution_count": 36,
   "metadata": {
    "id": "yoL_E5BelJTu"
   },
   "outputs": [],
   "source": [
    "train_losses = []\n",
    "val_losses = []\n",
    "val_BERs = []"
   ]
  },
  {
   "cell_type": "code",
   "execution_count": 37,
   "metadata": {
    "id": "RG6l-WFKlJTu"
   },
   "outputs": [],
   "source": [
    "model=model.to(device)"
   ]
  },
  {
   "cell_type": "code",
   "execution_count": 38,
   "metadata": {
    "colab": {
     "base_uri": "https://localhost:8080/",
     "height": 49,
     "referenced_widgets": [
      "3bcf58ea8fa4466d8a85e0ed96e7ccd3",
      "8f248089c2f3428ea04ce56867762f45",
      "65dd770096114c00897515a2968eeec0",
      "3127d7a7d8304cc5955bb394cfff491e",
      "1f8adc033e414fcdac9182e23ec901bb",
      "1de5c673dd774b60a14f5844fcfe80d1",
      "2699883b3ad74ca793f01a45fd48e0cb",
      "47b4ba63d9e04d98af69ec453d7f5df6",
      "3f3523a73e5045e9aa3e105e0ff0e9a3",
      "c059c18b197744cfa704bfea93e8f9d5",
      "5b3e0325cbad4bcfb444a626207594ea"
     ]
    },
    "id": "m6_ecNDBlJTu",
    "outputId": "d7766eaa-8bc5-4b0f-c61d-b9cba7f76a9c",
    "scrolled": false
   },
   "outputs": [
    {
     "data": {
      "application/vnd.jupyter.widget-view+json": {
       "model_id": "9b0cae45012f49ae84de0c4008c78e5d",
       "version_major": 2,
       "version_minor": 0
      },
      "text/plain": [
       "  0%|          | 0/80 [00:00<?, ?it/s]"
      ]
     },
     "metadata": {},
     "output_type": "display_data"
    },
    {
     "data": {
      "application/vnd.jupyter.widget-view+json": {
       "model_id": "61d5a4f213054cee8be1e3907abac450",
       "version_major": 2,
       "version_minor": 0
      },
      "text/plain": [
       "  0%|          | 0/320 [00:00<?, ?it/s]"
      ]
     },
     "metadata": {},
     "output_type": "display_data"
    },
    {
     "name": "stdout",
     "output_type": "stream",
     "text": [
      "Epoch [1/30], Loss: 0.7151, Val Loss: 0.7153, Val BER: 0.3909\n"
     ]
    },
    {
     "data": {
      "application/vnd.jupyter.widget-view+json": {
       "model_id": "a45b80606879471a92dc0d1d583bd3d4",
       "version_major": 2,
       "version_minor": 0
      },
      "text/plain": [
       "  0%|          | 0/80 [00:00<?, ?it/s]"
      ]
     },
     "metadata": {},
     "output_type": "display_data"
    },
    {
     "data": {
      "application/vnd.jupyter.widget-view+json": {
       "model_id": "c0b7048c73564dbdb1d86822b567a72c",
       "version_major": 2,
       "version_minor": 0
      },
      "text/plain": [
       "  0%|          | 0/320 [00:00<?, ?it/s]"
      ]
     },
     "metadata": {},
     "output_type": "display_data"
    },
    {
     "name": "stdout",
     "output_type": "stream",
     "text": [
      "Epoch [2/30], Loss: 0.6939, Val Loss: 0.6940, Val BER: 0.3945\n"
     ]
    },
    {
     "data": {
      "application/vnd.jupyter.widget-view+json": {
       "model_id": "f8d374e8ffdd455fbaddafe3b979b89d",
       "version_major": 2,
       "version_minor": 0
      },
      "text/plain": [
       "  0%|          | 0/80 [00:00<?, ?it/s]"
      ]
     },
     "metadata": {},
     "output_type": "display_data"
    },
    {
     "data": {
      "application/vnd.jupyter.widget-view+json": {
       "model_id": "3fae426089d841e29c622590076a6228",
       "version_major": 2,
       "version_minor": 0
      },
      "text/plain": [
       "  0%|          | 0/320 [00:00<?, ?it/s]"
      ]
     },
     "metadata": {},
     "output_type": "display_data"
    },
    {
     "name": "stdout",
     "output_type": "stream",
     "text": [
      "Epoch [3/30], Loss: 0.6790, Val Loss: 0.6626, Val BER: 0.3883\n"
     ]
    },
    {
     "data": {
      "application/vnd.jupyter.widget-view+json": {
       "model_id": "496ba6aa5a20487b93ef4921fdc4005a",
       "version_major": 2,
       "version_minor": 0
      },
      "text/plain": [
       "  0%|          | 0/80 [00:00<?, ?it/s]"
      ]
     },
     "metadata": {},
     "output_type": "display_data"
    },
    {
     "data": {
      "application/vnd.jupyter.widget-view+json": {
       "model_id": "df98afb5a8d140b28d1cdda956658abb",
       "version_major": 2,
       "version_minor": 0
      },
      "text/plain": [
       "  0%|          | 0/320 [00:00<?, ?it/s]"
      ]
     },
     "metadata": {},
     "output_type": "display_data"
    },
    {
     "name": "stdout",
     "output_type": "stream",
     "text": [
      "Epoch [4/30], Loss: 0.6688, Val Loss: 0.6504, Val BER: 0.3778\n"
     ]
    },
    {
     "data": {
      "application/vnd.jupyter.widget-view+json": {
       "model_id": "6ba35c101e3d439e943c80d26e9808a4",
       "version_major": 2,
       "version_minor": 0
      },
      "text/plain": [
       "  0%|          | 0/80 [00:00<?, ?it/s]"
      ]
     },
     "metadata": {},
     "output_type": "display_data"
    },
    {
     "data": {
      "application/vnd.jupyter.widget-view+json": {
       "model_id": "30bd2cd8510a4fab84576ba13ae2774f",
       "version_major": 2,
       "version_minor": 0
      },
      "text/plain": [
       "  0%|          | 0/320 [00:00<?, ?it/s]"
      ]
     },
     "metadata": {},
     "output_type": "display_data"
    },
    {
     "name": "stdout",
     "output_type": "stream",
     "text": [
      "Epoch [5/30], Loss: 0.6615, Val Loss: 0.6407, Val BER: 0.3649\n"
     ]
    },
    {
     "data": {
      "application/vnd.jupyter.widget-view+json": {
       "model_id": "291f22dbacba4819a19b204710ee8a60",
       "version_major": 2,
       "version_minor": 0
      },
      "text/plain": [
       "  0%|          | 0/80 [00:00<?, ?it/s]"
      ]
     },
     "metadata": {},
     "output_type": "display_data"
    },
    {
     "data": {
      "application/vnd.jupyter.widget-view+json": {
       "model_id": "5637e81a62bc421e9c4a737bac8ffba8",
       "version_major": 2,
       "version_minor": 0
      },
      "text/plain": [
       "  0%|          | 0/320 [00:00<?, ?it/s]"
      ]
     },
     "metadata": {},
     "output_type": "display_data"
    },
    {
     "name": "stdout",
     "output_type": "stream",
     "text": [
      "Epoch [6/30], Loss: 0.6561, Val Loss: 0.6590, Val BER: 0.3535\n"
     ]
    },
    {
     "data": {
      "application/vnd.jupyter.widget-view+json": {
       "model_id": "5eeeb3e281504cd5a464099865eb0379",
       "version_major": 2,
       "version_minor": 0
      },
      "text/plain": [
       "  0%|          | 0/80 [00:00<?, ?it/s]"
      ]
     },
     "metadata": {},
     "output_type": "display_data"
    },
    {
     "data": {
      "application/vnd.jupyter.widget-view+json": {
       "model_id": "9b5ee23bcaf044448e0fafce97efe7d3",
       "version_major": 2,
       "version_minor": 0
      },
      "text/plain": [
       "  0%|          | 0/320 [00:00<?, ?it/s]"
      ]
     },
     "metadata": {},
     "output_type": "display_data"
    },
    {
     "name": "stdout",
     "output_type": "stream",
     "text": [
      "Epoch [7/30], Loss: 0.6519, Val Loss: 0.7015, Val BER: 0.3448\n"
     ]
    },
    {
     "data": {
      "application/vnd.jupyter.widget-view+json": {
       "model_id": "ed46690faf8d4098b898a098682c2f07",
       "version_major": 2,
       "version_minor": 0
      },
      "text/plain": [
       "  0%|          | 0/80 [00:00<?, ?it/s]"
      ]
     },
     "metadata": {},
     "output_type": "display_data"
    },
    {
     "data": {
      "application/vnd.jupyter.widget-view+json": {
       "model_id": "076a1c5275df48e8beb71bf36377eb7f",
       "version_major": 2,
       "version_minor": 0
      },
      "text/plain": [
       "  0%|          | 0/320 [00:00<?, ?it/s]"
      ]
     },
     "metadata": {},
     "output_type": "display_data"
    },
    {
     "name": "stdout",
     "output_type": "stream",
     "text": [
      "Epoch [8/30], Loss: 0.6486, Val Loss: 0.6959, Val BER: 0.3400\n"
     ]
    },
    {
     "data": {
      "application/vnd.jupyter.widget-view+json": {
       "model_id": "9309fe67e691450aa215ac3297d107b3",
       "version_major": 2,
       "version_minor": 0
      },
      "text/plain": [
       "  0%|          | 0/80 [00:00<?, ?it/s]"
      ]
     },
     "metadata": {},
     "output_type": "display_data"
    },
    {
     "data": {
      "application/vnd.jupyter.widget-view+json": {
       "model_id": "96445165257d4ebcac27dcefa5adbc90",
       "version_major": 2,
       "version_minor": 0
      },
      "text/plain": [
       "  0%|          | 0/320 [00:00<?, ?it/s]"
      ]
     },
     "metadata": {},
     "output_type": "display_data"
    },
    {
     "name": "stdout",
     "output_type": "stream",
     "text": [
      "Epoch [9/30], Loss: 0.6459, Val Loss: 0.6989, Val BER: 0.3374\n"
     ]
    },
    {
     "data": {
      "application/vnd.jupyter.widget-view+json": {
       "model_id": "6fb347a1317f4507904d36cc469f2d05",
       "version_major": 2,
       "version_minor": 0
      },
      "text/plain": [
       "  0%|          | 0/80 [00:00<?, ?it/s]"
      ]
     },
     "metadata": {},
     "output_type": "display_data"
    },
    {
     "data": {
      "application/vnd.jupyter.widget-view+json": {
       "model_id": "9d1a38de381642288ae9be130efd9af2",
       "version_major": 2,
       "version_minor": 0
      },
      "text/plain": [
       "  0%|          | 0/320 [00:00<?, ?it/s]"
      ]
     },
     "metadata": {},
     "output_type": "display_data"
    },
    {
     "name": "stdout",
     "output_type": "stream",
     "text": [
      "Epoch [10/30], Loss: 0.6437, Val Loss: 0.6960, Val BER: 0.3354\n"
     ]
    },
    {
     "data": {
      "application/vnd.jupyter.widget-view+json": {
       "model_id": "e3fa318a0a384e06afa8f25cbc96a4df",
       "version_major": 2,
       "version_minor": 0
      },
      "text/plain": [
       "  0%|          | 0/80 [00:00<?, ?it/s]"
      ]
     },
     "metadata": {},
     "output_type": "display_data"
    },
    {
     "data": {
      "application/vnd.jupyter.widget-view+json": {
       "model_id": "a4cc22895faf4b1386a3d448db1347b2",
       "version_major": 2,
       "version_minor": 0
      },
      "text/plain": [
       "  0%|          | 0/320 [00:00<?, ?it/s]"
      ]
     },
     "metadata": {},
     "output_type": "display_data"
    },
    {
     "name": "stdout",
     "output_type": "stream",
     "text": [
      "Epoch [11/30], Loss: 0.6418, Val Loss: 0.6896, Val BER: 0.3337\n"
     ]
    },
    {
     "data": {
      "application/vnd.jupyter.widget-view+json": {
       "model_id": "d90c1b640198474e8401ac430fd5d681",
       "version_major": 2,
       "version_minor": 0
      },
      "text/plain": [
       "  0%|          | 0/80 [00:00<?, ?it/s]"
      ]
     },
     "metadata": {},
     "output_type": "display_data"
    },
    {
     "data": {
      "application/vnd.jupyter.widget-view+json": {
       "model_id": "fd2acfc6541c4b8b859f675d85a82101",
       "version_major": 2,
       "version_minor": 0
      },
      "text/plain": [
       "  0%|          | 0/320 [00:00<?, ?it/s]"
      ]
     },
     "metadata": {},
     "output_type": "display_data"
    },
    {
     "name": "stdout",
     "output_type": "stream",
     "text": [
      "Epoch [12/30], Loss: 0.6402, Val Loss: 0.6770, Val BER: 0.3322\n"
     ]
    },
    {
     "data": {
      "application/vnd.jupyter.widget-view+json": {
       "model_id": "0b54978fad01467eb5c1ac648449f365",
       "version_major": 2,
       "version_minor": 0
      },
      "text/plain": [
       "  0%|          | 0/80 [00:00<?, ?it/s]"
      ]
     },
     "metadata": {},
     "output_type": "display_data"
    },
    {
     "data": {
      "application/vnd.jupyter.widget-view+json": {
       "model_id": "ccb5adcb61d944f79f00a7a69765ce0a",
       "version_major": 2,
       "version_minor": 0
      },
      "text/plain": [
       "  0%|          | 0/320 [00:00<?, ?it/s]"
      ]
     },
     "metadata": {},
     "output_type": "display_data"
    },
    {
     "name": "stdout",
     "output_type": "stream",
     "text": [
      "Epoch [13/30], Loss: 0.6387, Val Loss: 0.6051, Val BER: 0.3305\n"
     ]
    },
    {
     "data": {
      "application/vnd.jupyter.widget-view+json": {
       "model_id": "0598754be86242d9837455956557a534",
       "version_major": 2,
       "version_minor": 0
      },
      "text/plain": [
       "  0%|          | 0/80 [00:00<?, ?it/s]"
      ]
     },
     "metadata": {},
     "output_type": "display_data"
    },
    {
     "data": {
      "application/vnd.jupyter.widget-view+json": {
       "model_id": "b601d476424c4afcb283c68712d7f945",
       "version_major": 2,
       "version_minor": 0
      },
      "text/plain": [
       "  0%|          | 0/320 [00:00<?, ?it/s]"
      ]
     },
     "metadata": {},
     "output_type": "display_data"
    },
    {
     "name": "stdout",
     "output_type": "stream",
     "text": [
      "Epoch [14/30], Loss: 0.6374, Val Loss: 0.6936, Val BER: 0.3286\n"
     ]
    },
    {
     "data": {
      "application/vnd.jupyter.widget-view+json": {
       "model_id": "07e5d0776bea4e09b77626d55c316ae2",
       "version_major": 2,
       "version_minor": 0
      },
      "text/plain": [
       "  0%|          | 0/80 [00:00<?, ?it/s]"
      ]
     },
     "metadata": {},
     "output_type": "display_data"
    },
    {
     "data": {
      "application/vnd.jupyter.widget-view+json": {
       "model_id": "77aede84c13d401eaafb18869ef08126",
       "version_major": 2,
       "version_minor": 0
      },
      "text/plain": [
       "  0%|          | 0/320 [00:00<?, ?it/s]"
      ]
     },
     "metadata": {},
     "output_type": "display_data"
    },
    {
     "name": "stdout",
     "output_type": "stream",
     "text": [
      "Epoch [15/30], Loss: 0.6361, Val Loss: 0.6047, Val BER: 0.3261\n"
     ]
    },
    {
     "data": {
      "application/vnd.jupyter.widget-view+json": {
       "model_id": "cdb183924d0d4cb187ce66135037c541",
       "version_major": 2,
       "version_minor": 0
      },
      "text/plain": [
       "  0%|          | 0/80 [00:00<?, ?it/s]"
      ]
     },
     "metadata": {},
     "output_type": "display_data"
    },
    {
     "data": {
      "application/vnd.jupyter.widget-view+json": {
       "model_id": "e9facbdc09004b88bef533384922e963",
       "version_major": 2,
       "version_minor": 0
      },
      "text/plain": [
       "  0%|          | 0/320 [00:00<?, ?it/s]"
      ]
     },
     "metadata": {},
     "output_type": "display_data"
    },
    {
     "name": "stdout",
     "output_type": "stream",
     "text": [
      "Epoch [16/30], Loss: 0.6350, Val Loss: 0.6048, Val BER: 0.3228\n"
     ]
    },
    {
     "data": {
      "application/vnd.jupyter.widget-view+json": {
       "model_id": "8d5f3271eeb84c679aa2ae2c10b54427",
       "version_major": 2,
       "version_minor": 0
      },
      "text/plain": [
       "  0%|          | 0/80 [00:00<?, ?it/s]"
      ]
     },
     "metadata": {},
     "output_type": "display_data"
    },
    {
     "data": {
      "application/vnd.jupyter.widget-view+json": {
       "model_id": "d12a261495e04de49b45452c2ceda381",
       "version_major": 2,
       "version_minor": 0
      },
      "text/plain": [
       "  0%|          | 0/320 [00:00<?, ?it/s]"
      ]
     },
     "metadata": {},
     "output_type": "display_data"
    },
    {
     "name": "stdout",
     "output_type": "stream",
     "text": [
      "Epoch [17/30], Loss: 0.6339, Val Loss: 0.6583, Val BER: 0.3178\n"
     ]
    },
    {
     "data": {
      "application/vnd.jupyter.widget-view+json": {
       "model_id": "9304bddad870468384123810908eca31",
       "version_major": 2,
       "version_minor": 0
      },
      "text/plain": [
       "  0%|          | 0/80 [00:00<?, ?it/s]"
      ]
     },
     "metadata": {},
     "output_type": "display_data"
    },
    {
     "data": {
      "application/vnd.jupyter.widget-view+json": {
       "model_id": "bcfe18ef59984230bd52ea76dd226693",
       "version_major": 2,
       "version_minor": 0
      },
      "text/plain": [
       "  0%|          | 0/320 [00:00<?, ?it/s]"
      ]
     },
     "metadata": {},
     "output_type": "display_data"
    },
    {
     "name": "stdout",
     "output_type": "stream",
     "text": [
      "Epoch [18/30], Loss: 0.6329, Val Loss: 0.6318, Val BER: 0.3096\n"
     ]
    },
    {
     "data": {
      "application/vnd.jupyter.widget-view+json": {
       "model_id": "0f0d4e892a6b4f5bbf1f48a211fe0cda",
       "version_major": 2,
       "version_minor": 0
      },
      "text/plain": [
       "  0%|          | 0/80 [00:00<?, ?it/s]"
      ]
     },
     "metadata": {},
     "output_type": "display_data"
    },
    {
     "data": {
      "application/vnd.jupyter.widget-view+json": {
       "model_id": "d07ca09e3b2049b997381e1b32068e8a",
       "version_major": 2,
       "version_minor": 0
      },
      "text/plain": [
       "  0%|          | 0/320 [00:00<?, ?it/s]"
      ]
     },
     "metadata": {},
     "output_type": "display_data"
    },
    {
     "name": "stdout",
     "output_type": "stream",
     "text": [
      "Epoch [19/30], Loss: 0.6319, Val Loss: 0.5911, Val BER: 0.2990\n"
     ]
    },
    {
     "data": {
      "application/vnd.jupyter.widget-view+json": {
       "model_id": "4dbf1d5b647a4d7188ba2363ee007e2c",
       "version_major": 2,
       "version_minor": 0
      },
      "text/plain": [
       "  0%|          | 0/80 [00:00<?, ?it/s]"
      ]
     },
     "metadata": {},
     "output_type": "display_data"
    },
    {
     "data": {
      "application/vnd.jupyter.widget-view+json": {
       "model_id": "e224ec6c40e944189f359f5506a587bb",
       "version_major": 2,
       "version_minor": 0
      },
      "text/plain": [
       "  0%|          | 0/320 [00:00<?, ?it/s]"
      ]
     },
     "metadata": {},
     "output_type": "display_data"
    },
    {
     "name": "stdout",
     "output_type": "stream",
     "text": [
      "Epoch [20/30], Loss: 0.6310, Val Loss: 0.6093, Val BER: 0.2898\n"
     ]
    },
    {
     "data": {
      "application/vnd.jupyter.widget-view+json": {
       "model_id": "7312cfeb647641b8bae9e0cd04b4788e",
       "version_major": 2,
       "version_minor": 0
      },
      "text/plain": [
       "  0%|          | 0/80 [00:00<?, ?it/s]"
      ]
     },
     "metadata": {},
     "output_type": "display_data"
    },
    {
     "data": {
      "application/vnd.jupyter.widget-view+json": {
       "model_id": "44a51ea129174909ac76db9cc97c0032",
       "version_major": 2,
       "version_minor": 0
      },
      "text/plain": [
       "  0%|          | 0/320 [00:00<?, ?it/s]"
      ]
     },
     "metadata": {},
     "output_type": "display_data"
    },
    {
     "name": "stdout",
     "output_type": "stream",
     "text": [
      "Epoch [21/30], Loss: 0.6301, Val Loss: 0.5886, Val BER: 0.2825\n"
     ]
    },
    {
     "data": {
      "application/vnd.jupyter.widget-view+json": {
       "model_id": "cdb61739457c4584a3e8b0bfe54470d6",
       "version_major": 2,
       "version_minor": 0
      },
      "text/plain": [
       "  0%|          | 0/80 [00:00<?, ?it/s]"
      ]
     },
     "metadata": {},
     "output_type": "display_data"
    },
    {
     "data": {
      "application/vnd.jupyter.widget-view+json": {
       "model_id": "d3d98c61c99342c5979672db01b6c6ba",
       "version_major": 2,
       "version_minor": 0
      },
      "text/plain": [
       "  0%|          | 0/320 [00:00<?, ?it/s]"
      ]
     },
     "metadata": {},
     "output_type": "display_data"
    },
    {
     "name": "stdout",
     "output_type": "stream",
     "text": [
      "Epoch [22/30], Loss: 0.6293, Val Loss: 0.5883, Val BER: 0.2788\n"
     ]
    },
    {
     "data": {
      "application/vnd.jupyter.widget-view+json": {
       "model_id": "5b6745b1521e49929dec634f6c24bb16",
       "version_major": 2,
       "version_minor": 0
      },
      "text/plain": [
       "  0%|          | 0/80 [00:00<?, ?it/s]"
      ]
     },
     "metadata": {},
     "output_type": "display_data"
    },
    {
     "data": {
      "application/vnd.jupyter.widget-view+json": {
       "model_id": "f17a686d64e64e36ba17d2be4cbe601a",
       "version_major": 2,
       "version_minor": 0
      },
      "text/plain": [
       "  0%|          | 0/320 [00:00<?, ?it/s]"
      ]
     },
     "metadata": {},
     "output_type": "display_data"
    },
    {
     "name": "stdout",
     "output_type": "stream",
     "text": [
      "Epoch [23/30], Loss: 0.6285, Val Loss: 0.6978, Val BER: 0.2764\n"
     ]
    },
    {
     "data": {
      "application/vnd.jupyter.widget-view+json": {
       "model_id": "5b1b7560ab22423a909059f6ca10f16e",
       "version_major": 2,
       "version_minor": 0
      },
      "text/plain": [
       "  0%|          | 0/80 [00:00<?, ?it/s]"
      ]
     },
     "metadata": {},
     "output_type": "display_data"
    },
    {
     "data": {
      "application/vnd.jupyter.widget-view+json": {
       "model_id": "2a6c5e67b4174d6794209c61bf89fc66",
       "version_major": 2,
       "version_minor": 0
      },
      "text/plain": [
       "  0%|          | 0/320 [00:00<?, ?it/s]"
      ]
     },
     "metadata": {},
     "output_type": "display_data"
    },
    {
     "name": "stdout",
     "output_type": "stream",
     "text": [
      "Epoch [24/30], Loss: 0.6279, Val Loss: 0.5816, Val BER: 0.2751\n"
     ]
    },
    {
     "data": {
      "application/vnd.jupyter.widget-view+json": {
       "model_id": "6b70de95abcb4512896bd823d4c78d6c",
       "version_major": 2,
       "version_minor": 0
      },
      "text/plain": [
       "  0%|          | 0/80 [00:00<?, ?it/s]"
      ]
     },
     "metadata": {},
     "output_type": "display_data"
    },
    {
     "data": {
      "application/vnd.jupyter.widget-view+json": {
       "model_id": "2dd78fba096a4e34b9c0b7b459e7ef44",
       "version_major": 2,
       "version_minor": 0
      },
      "text/plain": [
       "  0%|          | 0/320 [00:00<?, ?it/s]"
      ]
     },
     "metadata": {},
     "output_type": "display_data"
    },
    {
     "name": "stdout",
     "output_type": "stream",
     "text": [
      "Epoch [25/30], Loss: 0.6271, Val Loss: 0.7195, Val BER: 0.2745\n"
     ]
    },
    {
     "data": {
      "application/vnd.jupyter.widget-view+json": {
       "model_id": "4346ec6b623d4b8890914eb2963e7f3b",
       "version_major": 2,
       "version_minor": 0
      },
      "text/plain": [
       "  0%|          | 0/80 [00:00<?, ?it/s]"
      ]
     },
     "metadata": {},
     "output_type": "display_data"
    },
    {
     "data": {
      "application/vnd.jupyter.widget-view+json": {
       "model_id": "bf59079e9b7243ffb679608214841c28",
       "version_major": 2,
       "version_minor": 0
      },
      "text/plain": [
       "  0%|          | 0/320 [00:00<?, ?it/s]"
      ]
     },
     "metadata": {},
     "output_type": "display_data"
    },
    {
     "name": "stdout",
     "output_type": "stream",
     "text": [
      "Epoch [26/30], Loss: 0.6265, Val Loss: 0.6978, Val BER: 0.2740\n"
     ]
    },
    {
     "data": {
      "application/vnd.jupyter.widget-view+json": {
       "model_id": "5368761087c14716a613273ea5fec75e",
       "version_major": 2,
       "version_minor": 0
      },
      "text/plain": [
       "  0%|          | 0/80 [00:00<?, ?it/s]"
      ]
     },
     "metadata": {},
     "output_type": "display_data"
    },
    {
     "data": {
      "application/vnd.jupyter.widget-view+json": {
       "model_id": "c6e43a3b3ebd4a85a4977d07b7dc8cab",
       "version_major": 2,
       "version_minor": 0
      },
      "text/plain": [
       "  0%|          | 0/320 [00:00<?, ?it/s]"
      ]
     },
     "metadata": {},
     "output_type": "display_data"
    },
    {
     "name": "stdout",
     "output_type": "stream",
     "text": [
      "Epoch [27/30], Loss: 0.6259, Val Loss: 0.6871, Val BER: 0.2737\n"
     ]
    },
    {
     "data": {
      "application/vnd.jupyter.widget-view+json": {
       "model_id": "4a71ea9a782e49258c97e2da4c9074de",
       "version_major": 2,
       "version_minor": 0
      },
      "text/plain": [
       "  0%|          | 0/80 [00:00<?, ?it/s]"
      ]
     },
     "metadata": {},
     "output_type": "display_data"
    },
    {
     "data": {
      "application/vnd.jupyter.widget-view+json": {
       "model_id": "082b3698dbb5453cbf6dd05dd70a1193",
       "version_major": 2,
       "version_minor": 0
      },
      "text/plain": [
       "  0%|          | 0/320 [00:00<?, ?it/s]"
      ]
     },
     "metadata": {},
     "output_type": "display_data"
    },
    {
     "name": "stdout",
     "output_type": "stream",
     "text": [
      "Epoch [28/30], Loss: 0.6254, Val Loss: 0.7085, Val BER: 0.2735\n"
     ]
    },
    {
     "data": {
      "application/vnd.jupyter.widget-view+json": {
       "model_id": "c5e005a6a953447eb3361a7c9dfce7f9",
       "version_major": 2,
       "version_minor": 0
      },
      "text/plain": [
       "  0%|          | 0/80 [00:00<?, ?it/s]"
      ]
     },
     "metadata": {},
     "output_type": "display_data"
    },
    {
     "data": {
      "application/vnd.jupyter.widget-view+json": {
       "model_id": "3c803caf6da9401a90b1baf8c31cfbaa",
       "version_major": 2,
       "version_minor": 0
      },
      "text/plain": [
       "  0%|          | 0/320 [00:00<?, ?it/s]"
      ]
     },
     "metadata": {},
     "output_type": "display_data"
    },
    {
     "name": "stdout",
     "output_type": "stream",
     "text": [
      "Epoch [29/30], Loss: 0.6249, Val Loss: 0.6849, Val BER: 0.2732\n"
     ]
    },
    {
     "data": {
      "application/vnd.jupyter.widget-view+json": {
       "model_id": "9adbf06c23fe42448235de08079c0e84",
       "version_major": 2,
       "version_minor": 0
      },
      "text/plain": [
       "  0%|          | 0/80 [00:00<?, ?it/s]"
      ]
     },
     "metadata": {},
     "output_type": "display_data"
    },
    {
     "data": {
      "application/vnd.jupyter.widget-view+json": {
       "model_id": "b684a7d7c6164a209ccf12bdfb04bb50",
       "version_major": 2,
       "version_minor": 0
      },
      "text/plain": [
       "  0%|          | 0/320 [00:00<?, ?it/s]"
      ]
     },
     "metadata": {},
     "output_type": "display_data"
    },
    {
     "name": "stdout",
     "output_type": "stream",
     "text": [
      "Epoch [30/30], Loss: 0.6245, Val Loss: 0.5753, Val BER: 0.2730\n"
     ]
    }
   ],
   "source": [
    "from tqdm.auto import tqdm\n",
    "# Training loop\n",
    "start_epoch = 0\n",
    "num_epochs = 30\n",
    "for epoch in range(start_epoch, num_epochs):\n",
    "    total_loss = 0.0\n",
    "    model.train()  # Set the model to training mode\n",
    "\n",
    "    for index, data_batch in enumerate(tqdm(train_loader)):\n",
    "        batch = {k: v.to(device) for k, v in data_batch.items()}\n",
    "        samples = batch['samples']\n",
    "        labels = batch['labels']\n",
    "        outputs = model(samples)  # forward pass\n",
    "        loss = loss_fn(outputs, labels)\n",
    "        loss.backward()  # backward pass\n",
    "        optimizer.step()  # update the weights\n",
    "        total_loss += loss.item()  # accumulate the loss\n",
    "        optimizer.zero_grad()  # Zero the gradients\n",
    "\n",
    "    # Print average loss for the epoch\n",
    "    average_loss = total_loss / len(train_loader)\n",
    "\n",
    "    # Validation\n",
    "    model.eval()  # Set the model to evaluation mode\n",
    "    BER_batch=[]\n",
    "    with torch.no_grad():\n",
    "        for index, data_batch in enumerate(tqdm(val_loader)):\n",
    "            batch = {k: v.to(device) for k, v in data_batch.items()}\n",
    "            samples = batch['samples']\n",
    "            labels = batch['labels']\n",
    "            val_outputs = model(samples)\n",
    "            val_loss = loss_fn(val_outputs, labels)\n",
    "\n",
    "            # Convert probabilities to binary predictions (0 or 1)\n",
    "            binary_predictions = torch.round(val_outputs)\n",
    "\n",
    "            # Calculate Bit Error Rate (BER)\n",
    "            error_count = torch.sum(binary_predictions != labels).float()  # Count of unequal bits\n",
    "            error_rate = error_count / len(labels.flatten())  # Error rate calculation\n",
    "            BER_batch.append(error_rate.item())\n",
    "\n",
    "    # Save performance details\n",
    "    train_losses.append(average_loss)\n",
    "    val_losses.append(val_loss.item())\n",
    "    BER_batch_mean=np.mean(BER_batch)\n",
    "    val_BERs.append(BER_batch_mean)#(BER.item())\n",
    "\n",
    "    # Print or log validation loss after each epoch\n",
    "    print(f\"Epoch [{epoch + 1}/{num_epochs}], Loss: {average_loss:.4f}, Val Loss: {val_loss:.4f}, Val BER: {BER_batch_mean:.4f}\")\n"
   ]
  },
  {
   "cell_type": "code",
   "execution_count": 39,
   "metadata": {
    "id": "_vK1FwSslJTu"
   },
   "outputs": [],
   "source": [
    "# Save the final trained model\n",
    "checkpoint = {\n",
    "    'epoch': epoch,\n",
    "    'model_state_dict': model.state_dict(),\n",
    "}\n",
    "modelsave_path = os.path.join(trainoutput, 'simple_model.pth')\n",
    "torch.save(checkpoint, modelsave_path)"
   ]
  },
  {
   "cell_type": "code",
   "execution_count": 40,
   "metadata": {
    "id": "Da75zrcclJTv"
   },
   "outputs": [
    {
     "data": {
      "image/png": "[encoded data removed]",
      "text/plain": [
       "<Figure size 700x300 with 1 Axes>"
      ]
     },
     "metadata": {},
     "output_type": "display_data"
    }
   ],
   "source": [
    "# Plot Training Loss and Validation Loss\n",
    "plt.figure(figsize=(7, 3))\n",
    "plt.plot(train_losses, label='Training Loss')\n",
    "plt.plot(val_losses, label='Validation Loss')\n",
    "plt.xlabel('Epochs')\n",
    "plt.ylabel('Loss')\n",
    "plt.legend()\n",
    "plt.title('Training and Validation Loss Over Epochs')\n",
    "plt.grid(True)"
   ]
  },
  {
   "cell_type": "code",
   "execution_count": 41,
   "metadata": {
    "id": "T4gy8mXslJTv"
   },
   "outputs": [
    {
     "data": {
      "image/png": "[encoded data removed]",
      "text/plain": [
       "<Figure size 700x300 with 1 Axes>"
      ]
     },
     "metadata": {},
     "output_type": "display_data"
    }
   ],
   "source": [
    "# Plot Validation BER\n",
    "plt.figure(figsize=(7, 3))\n",
    "plt.plot(val_BERs, label='Validation BER')\n",
    "plt.xlabel('Epochs')\n",
    "plt.ylabel('BER')\n",
    "plt.legend()\n",
    "plt.title('Bit Error Rate (BER) on validation set')\n",
    "plt.grid(True)"
   ]
  },
  {
   "cell_type": "code",
   "execution_count": 42,
   "metadata": {},
   "outputs": [
    {
     "data": {
      "text/plain": [
       "True"
      ]
     },
     "execution_count": 42,
     "metadata": {},
     "output_type": "execute_result"
    }
   ],
   "source": [
    "import torch\n",
    "torch.cuda.is_available()"
   ]
  },
  {
   "cell_type": "markdown",
   "metadata": {},
   "source": [
    "# "
   ]
  }
 ],
 "metadata": {
  "colab": {
   "provenance": []
  },
  "hide_input": false,
  "kernelspec": {
   "display_name": "Python 3 (ipykernel)",
   "language": "python",
   "name": "python3"
  },
  "language_info": {
   "codemirror_mode": {
    "name": "ipython",
    "version": 3
   },
   "file_extension": ".py",
   "mimetype": "text/x-python",
   "name": "python",
   "nbconvert_exporter": "python",
   "pygments_lexer": "ipython3",
   "version": "3.11.5"
  },
  "varInspector": {
   "cols": {
    "lenName": 16,
    "lenType": 16,
    "lenVar": 40
   },
   "kernels_config": {
    "python": {
     "delete_cmd_postfix": "",
     "delete_cmd_prefix": "del ",
     "library": "var_list.py",
     "varRefreshCmd": "print(var_dic_list())"
    },
    "r": {
     "delete_cmd_postfix": ") ",
     "delete_cmd_prefix": "rm(",
     "library": "var_list.r",
     "varRefreshCmd": "cat(var_dic_list()) "
    }
   },
   "types_to_exclude": [
    "module",
    "function",
    "builtin_function_or_method",
    "instance",
    "_Feature"
   ],
   "window_display": false
  },
  "widgets": {
   "application/vnd.jupyter.widget-state+json": {
    "1de5c673dd774b60a14f5844fcfe80d1": {
     "model_module": "@jupyter-widgets/base",
     "model_module_version": "1.2.0",
     "model_name": "LayoutModel",
     "state": {
      "_model_module": "@jupyter-widgets/base",
      "_model_module_version": "1.2.0",
      "_model_name": "LayoutModel",
      "_view_count": null,
      "_view_module": "@jupyter-widgets/base",
      "_view_module_version": "1.2.0",
      "_view_name": "LayoutView",
      "align_content": null,
      "align_items": null,
      "align_self": null,
      "border": null,
      "bottom": null,
      "display": null,
      "flex": null,
      "flex_flow": null,
      "grid_area": null,
      "grid_auto_columns": null,
      "grid_auto_flow": null,
      "grid_auto_rows": null,
      "grid_column": null,
      "grid_gap": null,
      "grid_row": null,
      "grid_template_areas": null,
      "grid_template_columns": null,
      "grid_template_rows": null,
      "height": null,
      "justify_content": null,
      "justify_items": null,
      "left": null,
      "margin": null,
      "max_height": null,
      "max_width": null,
      "min_height": null,
      "min_width": null,
      "object_fit": null,
      "object_position": null,
      "order": null,
      "overflow": null,
      "overflow_x": null,
      "overflow_y": null,
      "padding": null,
      "right": null,
      "top": null,
      "visibility": null,
      "width": null
     }
    },
    "1f8adc033e414fcdac9182e23ec901bb": {
     "model_module": "@jupyter-widgets/base",
     "model_module_version": "1.2.0",
     "model_name": "LayoutModel",
     "state": {
      "_model_module": "@jupyter-widgets/base",
      "_model_module_version": "1.2.0",
      "_model_name": "LayoutModel",
      "_view_count": null,
      "_view_module": "@jupyter-widgets/base",
      "_view_module_version": "1.2.0",
      "_view_name": "LayoutView",
      "align_content": null,
      "align_items": null,
      "align_self": null,
      "border": null,
      "bottom": null,
      "display": null,
      "flex": null,
      "flex_flow": null,
      "grid_area": null,
      "grid_auto_columns": null,
      "grid_auto_flow": null,
      "grid_auto_rows": null,
      "grid_column": null,
      "grid_gap": null,
      "grid_row": null,
      "grid_template_areas": null,
      "grid_template_columns": null,
      "grid_template_rows": null,
      "height": null,
      "justify_content": null,
      "justify_items": null,
      "left": null,
      "margin": null,
      "max_height": null,
      "max_width": null,
      "min_height": null,
      "min_width": null,
      "object_fit": null,
      "object_position": null,
      "order": null,
      "overflow": null,
      "overflow_x": null,
      "overflow_y": null,
      "padding": null,
      "right": null,
      "top": null,
      "visibility": null,
      "width": null
     }
    },
    "2699883b3ad74ca793f01a45fd48e0cb": {
     "model_module": "@jupyter-widgets/controls",
     "model_module_version": "1.5.0",
     "model_name": "DescriptionStyleModel",
     "state": {
      "_model_module": "@jupyter-widgets/controls",
      "_model_module_version": "1.5.0",
      "_model_name": "DescriptionStyleModel",
      "_view_count": null,
      "_view_module": "@jupyter-widgets/base",
      "_view_module_version": "1.2.0",
      "_view_name": "StyleView",
      "description_width": ""
     }
    },
    "3127d7a7d8304cc5955bb394cfff491e": {
     "model_module": "@jupyter-widgets/controls",
     "model_module_version": "1.5.0",
     "model_name": "HTMLModel",
     "state": {
      "_dom_classes": [],
      "_model_module": "@jupyter-widgets/controls",
      "_model_module_version": "1.5.0",
      "_model_name": "HTMLModel",
      "_view_count": null,
      "_view_module": "@jupyter-widgets/controls",
      "_view_module_version": "1.5.0",
      "_view_name": "HTMLView",
      "description": "",
      "description_tooltip": null,
      "layout": "IPY_MODEL_c059c18b197744cfa704bfea93e8f9d5",
      "placeholder": "​",
      "style": "IPY_MODEL_5b3e0325cbad4bcfb444a626207594ea",
      "value": " 63/80 [00:48&lt;00:12,  1.35it/s]"
     }
    },
    "3bcf58ea8fa4466d8a85e0ed96e7ccd3": {
     "model_module": "@jupyter-widgets/controls",
     "model_module_version": "1.5.0",
     "model_name": "HBoxModel",
     "state": {
      "_dom_classes": [],
      "_model_module": "@jupyter-widgets/controls",
      "_model_module_version": "1.5.0",
      "_model_name": "HBoxModel",
      "_view_count": null,
      "_view_module": "@jupyter-widgets/controls",
      "_view_module_version": "1.5.0",
      "_view_name": "HBoxView",
      "box_style": "",
      "children": [
       "IPY_MODEL_8f248089c2f3428ea04ce56867762f45",
       "IPY_MODEL_65dd770096114c00897515a2968eeec0",
       "IPY_MODEL_3127d7a7d8304cc5955bb394cfff491e"
      ],
      "layout": "IPY_MODEL_1f8adc033e414fcdac9182e23ec901bb"
     }
    },
    "3f3523a73e5045e9aa3e105e0ff0e9a3": {
     "model_module": "@jupyter-widgets/controls",
     "model_module_version": "1.5.0",
     "model_name": "ProgressStyleModel",
     "state": {
      "_model_module": "@jupyter-widgets/controls",
      "_model_module_version": "1.5.0",
      "_model_name": "ProgressStyleModel",
      "_view_count": null,
      "_view_module": "@jupyter-widgets/base",
      "_view_module_version": "1.2.0",
      "_view_name": "StyleView",
      "bar_color": null,
      "description_width": ""
     }
    },
    "47b4ba63d9e04d98af69ec453d7f5df6": {
     "model_module": "@jupyter-widgets/base",
     "model_module_version": "1.2.0",
     "model_name": "LayoutModel",
     "state": {
      "_model_module": "@jupyter-widgets/base",
      "_model_module_version": "1.2.0",
      "_model_name": "LayoutModel",
      "_view_count": null,
      "_view_module": "@jupyter-widgets/base",
      "_view_module_version": "1.2.0",
      "_view_name": "LayoutView",
      "align_content": null,
      "align_items": null,
      "align_self": null,
      "border": null,
      "bottom": null,
      "display": null,
      "flex": null,
      "flex_flow": null,
      "grid_area": null,
      "grid_auto_columns": null,
      "grid_auto_flow": null,
      "grid_auto_rows": null,
      "grid_column": null,
      "grid_gap": null,
      "grid_row": null,
      "grid_template_areas": null,
      "grid_template_columns": null,
      "grid_template_rows": null,
      "height": null,
      "justify_content": null,
      "justify_items": null,
      "left": null,
      "margin": null,
      "max_height": null,
      "max_width": null,
      "min_height": null,
      "min_width": null,
      "object_fit": null,
      "object_position": null,
      "order": null,
      "overflow": null,
      "overflow_x": null,
      "overflow_y": null,
      "padding": null,
      "right": null,
      "top": null,
      "visibility": null,
      "width": null
     }
    },
    "5b3e0325cbad4bcfb444a626207594ea": {
     "model_module": "@jupyter-widgets/controls",
     "model_module_version": "1.5.0",
     "model_name": "DescriptionStyleModel",
     "state": {
      "_model_module": "@jupyter-widgets/controls",
      "_model_module_version": "1.5.0",
      "_model_name": "DescriptionStyleModel",
      "_view_count": null,
      "_view_module": "@jupyter-widgets/base",
      "_view_module_version": "1.2.0",
      "_view_name": "StyleView",
      "description_width": ""
     }
    },
    "65dd770096114c00897515a2968eeec0": {
     "model_module": "@jupyter-widgets/controls",
     "model_module_version": "1.5.0",
     "model_name": "FloatProgressModel",
     "state": {
      "_dom_classes": [],
      "_model_module": "@jupyter-widgets/controls",
      "_model_module_version": "1.5.0",
      "_model_name": "FloatProgressModel",
      "_view_count": null,
      "_view_module": "@jupyter-widgets/controls",
      "_view_module_version": "1.5.0",
      "_view_name": "ProgressView",
      "bar_style": "",
      "description": "",
      "description_tooltip": null,
      "layout": "IPY_MODEL_47b4ba63d9e04d98af69ec453d7f5df6",
      "max": 80,
      "min": 0,
      "orientation": "horizontal",
      "style": "IPY_MODEL_3f3523a73e5045e9aa3e105e0ff0e9a3",
      "value": 63
     }
    },
    "8f248089c2f3428ea04ce56867762f45": {
     "model_module": "@jupyter-widgets/controls",
     "model_module_version": "1.5.0",
     "model_name": "HTMLModel",
     "state": {
      "_dom_classes": [],
      "_model_module": "@jupyter-widgets/controls",
      "_model_module_version": "1.5.0",
      "_model_name": "HTMLModel",
      "_view_count": null,
      "_view_module": "@jupyter-widgets/controls",
      "_view_module_version": "1.5.0",
      "_view_name": "HTMLView",
      "description": "",
      "description_tooltip": null,
      "layout": "IPY_MODEL_1de5c673dd774b60a14f5844fcfe80d1",
      "placeholder": "​",
      "style": "IPY_MODEL_2699883b3ad74ca793f01a45fd48e0cb",
      "value": " 79%"
     }
    },
    "c059c18b197744cfa704bfea93e8f9d5": {
     "model_module": "@jupyter-widgets/base",
     "model_module_version": "1.2.0",
     "model_name": "LayoutModel",
     "state": {
      "_model_module": "@jupyter-widgets/base",
      "_model_module_version": "1.2.0",
      "_model_name": "LayoutModel",
      "_view_count": null,
      "_view_module": "@jupyter-widgets/base",
      "_view_module_version": "1.2.0",
      "_view_name": "LayoutView",
      "align_content": null,
      "align_items": null,
      "align_self": null,
      "border": null,
      "bottom": null,
      "display": null,
      "flex": null,
      "flex_flow": null,
      "grid_area": null,
      "grid_auto_columns": null,
      "grid_auto_flow": null,
      "grid_auto_rows": null,
      "grid_column": null,
      "grid_gap": null,
      "grid_row": null,
      "grid_template_areas": null,
      "grid_template_columns": null,
      "grid_template_rows": null,
      "height": null,
      "justify_content": null,
      "justify_items": null,
      "left": null,
      "margin": null,
      "max_height": null,
      "max_width": null,
      "min_height": null,
      "min_width": null,
      "object_fit": null,
      "object_position": null,
      "order": null,
      "overflow": null,
      "overflow_x": null,
      "overflow_y": null,
      "padding": null,
      "right": null,
      "top": null,
      "visibility": null,
      "width": null
     }
    }
   }
  }
 },
 "nbformat": 4,
 "nbformat_minor": 4
}
