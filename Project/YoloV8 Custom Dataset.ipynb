{
 "cells": [
  {
   "cell_type": "code",
   "execution_count": 1,
   "id": "440d4127-9c65-49e5-b740-da8e2f3097e6",
   "metadata": {},
   "outputs": [
    {
     "name": "stdout",
     "output_type": "stream",
     "text": [
      "Requirement already satisfied: ultralytics in c:\\users\\somes\\anaconda3\\lib\\site-packages (8.1.42)\n",
      "Requirement already satisfied: matplotlib>=3.3.0 in c:\\users\\somes\\anaconda3\\lib\\site-packages (from ultralytics) (3.8.0)\n",
      "Requirement already satisfied: opencv-python>=4.6.0 in c:\\users\\somes\\anaconda3\\lib\\site-packages (from ultralytics) (4.9.0.80)\n",
      "Requirement already satisfied: pillow>=7.1.2 in c:\\users\\somes\\anaconda3\\lib\\site-packages (from ultralytics) (10.2.0)\n",
      "Requirement already satisfied: pyyaml>=5.3.1 in c:\\users\\somes\\anaconda3\\lib\\site-packages (from ultralytics) (6.0.1)\n",
      "Requirement already satisfied: requests>=2.23.0 in c:\\users\\somes\\anaconda3\\lib\\site-packages (from ultralytics) (2.31.0)\n",
      "Requirement already satisfied: scipy>=1.4.1 in c:\\users\\somes\\anaconda3\\lib\\site-packages (from ultralytics) (1.11.4)\n",
      "Requirement already satisfied: torch>=1.8.0 in c:\\users\\somes\\anaconda3\\lib\\site-packages (from ultralytics) (2.2.2)\n",
      "Requirement already satisfied: torchvision>=0.9.0 in c:\\users\\somes\\anaconda3\\lib\\site-packages (from ultralytics) (0.17.2)\n",
      "Requirement already satisfied: tqdm>=4.64.0 in c:\\users\\somes\\anaconda3\\lib\\site-packages (from ultralytics) (4.65.0)\n",
      "Requirement already satisfied: psutil in c:\\users\\somes\\anaconda3\\lib\\site-packages (from ultralytics) (5.9.0)\n",
      "Requirement already satisfied: py-cpuinfo in c:\\users\\somes\\anaconda3\\lib\\site-packages (from ultralytics) (9.0.0)\n",
      "Requirement already satisfied: thop>=0.1.1 in c:\\users\\somes\\anaconda3\\lib\\site-packages (from ultralytics) (0.1.1.post2209072238)\n",
      "Requirement already satisfied: pandas>=1.1.4 in c:\\users\\somes\\anaconda3\\lib\\site-packages (from ultralytics) (2.1.4)\n",
      "Requirement already satisfied: seaborn>=0.11.0 in c:\\users\\somes\\anaconda3\\lib\\site-packages (from ultralytics) (0.12.2)\n",
      "Requirement already satisfied: contourpy>=1.0.1 in c:\\users\\somes\\anaconda3\\lib\\site-packages (from matplotlib>=3.3.0->ultralytics) (1.2.0)\n",
      "Requirement already satisfied: cycler>=0.10 in c:\\users\\somes\\anaconda3\\lib\\site-packages (from matplotlib>=3.3.0->ultralytics) (0.11.0)\n",
      "Requirement already satisfied: fonttools>=4.22.0 in c:\\users\\somes\\anaconda3\\lib\\site-packages (from matplotlib>=3.3.0->ultralytics) (4.25.0)\n",
      "Requirement already satisfied: kiwisolver>=1.0.1 in c:\\users\\somes\\anaconda3\\lib\\site-packages (from matplotlib>=3.3.0->ultralytics) (1.4.4)\n",
      "Requirement already satisfied: numpy<2,>=1.21 in c:\\users\\somes\\appdata\\roaming\\python\\python311\\site-packages (from matplotlib>=3.3.0->ultralytics) (1.24.3)\n",
      "Requirement already satisfied: packaging>=20.0 in c:\\users\\somes\\anaconda3\\lib\\site-packages (from matplotlib>=3.3.0->ultralytics) (23.1)\n",
      "Requirement already satisfied: pyparsing>=2.3.1 in c:\\users\\somes\\anaconda3\\lib\\site-packages (from matplotlib>=3.3.0->ultralytics) (3.0.9)\n",
      "Requirement already satisfied: python-dateutil>=2.7 in c:\\users\\somes\\anaconda3\\lib\\site-packages (from matplotlib>=3.3.0->ultralytics) (2.8.2)\n",
      "Requirement already satisfied: pytz>=2020.1 in c:\\users\\somes\\anaconda3\\lib\\site-packages (from pandas>=1.1.4->ultralytics) (2023.3.post1)\n",
      "Requirement already satisfied: tzdata>=2022.1 in c:\\users\\somes\\anaconda3\\lib\\site-packages (from pandas>=1.1.4->ultralytics) (2023.3)\n",
      "Requirement already satisfied: charset-normalizer<4,>=2 in c:\\users\\somes\\anaconda3\\lib\\site-packages (from requests>=2.23.0->ultralytics) (2.0.4)\n",
      "Requirement already satisfied: idna<4,>=2.5 in c:\\users\\somes\\anaconda3\\lib\\site-packages (from requests>=2.23.0->ultralytics) (3.4)\n",
      "Requirement already satisfied: urllib3<3,>=1.21.1 in c:\\users\\somes\\anaconda3\\lib\\site-packages (from requests>=2.23.0->ultralytics) (2.0.7)\n",
      "Requirement already satisfied: certifi>=2017.4.17 in c:\\users\\somes\\anaconda3\\lib\\site-packages (from requests>=2.23.0->ultralytics) (2024.2.2)\n",
      "Requirement already satisfied: filelock in c:\\users\\somes\\anaconda3\\lib\\site-packages (from torch>=1.8.0->ultralytics) (3.13.1)\n",
      "Requirement already satisfied: typing-extensions>=4.8.0 in c:\\users\\somes\\appdata\\roaming\\python\\python311\\site-packages (from torch>=1.8.0->ultralytics) (4.10.0)\n",
      "Requirement already satisfied: sympy in c:\\users\\somes\\anaconda3\\lib\\site-packages (from torch>=1.8.0->ultralytics) (1.12)\n",
      "Requirement already satisfied: networkx in c:\\users\\somes\\anaconda3\\lib\\site-packages (from torch>=1.8.0->ultralytics) (3.1)\n",
      "Requirement already satisfied: jinja2 in c:\\users\\somes\\anaconda3\\lib\\site-packages (from torch>=1.8.0->ultralytics) (3.1.3)\n",
      "Requirement already satisfied: fsspec in c:\\users\\somes\\anaconda3\\lib\\site-packages (from torch>=1.8.0->ultralytics) (2023.10.0)\n",
      "Requirement already satisfied: colorama in c:\\users\\somes\\anaconda3\\lib\\site-packages (from tqdm>=4.64.0->ultralytics) (0.4.6)\n",
      "Requirement already satisfied: six>=1.5 in c:\\users\\somes\\anaconda3\\lib\\site-packages (from python-dateutil>=2.7->matplotlib>=3.3.0->ultralytics) (1.16.0)\n",
      "Requirement already satisfied: MarkupSafe>=2.0 in c:\\users\\somes\\anaconda3\\lib\\site-packages (from jinja2->torch>=1.8.0->ultralytics) (2.1.3)\n",
      "Requirement already satisfied: mpmath>=0.19 in c:\\users\\somes\\anaconda3\\lib\\site-packages (from sympy->torch>=1.8.0->ultralytics) (1.3.0)\n"
     ]
    }
   ],
   "source": [
    "!pip install ultralytics"
   ]
  },
  {
   "cell_type": "code",
   "execution_count": 2,
   "id": "66b24c1b-f604-4064-8278-6d6f2102b924",
   "metadata": {},
   "outputs": [
    {
     "name": "stdout",
     "output_type": "stream",
     "text": [
      "Collecting clearml\n",
      "  Downloading clearml-1.15.0-py2.py3-none-any.whl.metadata (17 kB)\n",
      "Requirement already satisfied: attrs>=18.0 in c:\\users\\somes\\anaconda3\\lib\\site-packages (from clearml) (23.1.0)\n",
      "Collecting furl>=2.0.0 (from clearml)\n",
      "  Downloading furl-2.1.3-py2.py3-none-any.whl.metadata (1.2 kB)\n",
      "Requirement already satisfied: jsonschema>=2.6.0 in c:\\users\\somes\\anaconda3\\lib\\site-packages (from clearml) (4.19.2)\n",
      "Requirement already satisfied: numpy>=1.10 in c:\\users\\somes\\appdata\\roaming\\python\\python311\\site-packages (from clearml) (1.24.3)\n",
      "Collecting pathlib2>=2.3.0 (from clearml)\n",
      "  Downloading pathlib2-2.3.7.post1-py2.py3-none-any.whl.metadata (3.5 kB)\n",
      "Requirement already satisfied: Pillow>=4.1.1 in c:\\users\\somes\\anaconda3\\lib\\site-packages (from clearml) (10.2.0)\n",
      "Requirement already satisfied: psutil>=3.4.2 in c:\\users\\somes\\anaconda3\\lib\\site-packages (from clearml) (5.9.0)\n",
      "Requirement already satisfied: pyparsing>=2.0.3 in c:\\users\\somes\\anaconda3\\lib\\site-packages (from clearml) (3.0.9)\n",
      "Requirement already satisfied: python-dateutil>=2.6.1 in c:\\users\\somes\\anaconda3\\lib\\site-packages (from clearml) (2.8.2)\n",
      "Requirement already satisfied: PyYAML>=3.12 in c:\\users\\somes\\anaconda3\\lib\\site-packages (from clearml) (6.0.1)\n",
      "Requirement already satisfied: requests>=2.20.0 in c:\\users\\somes\\anaconda3\\lib\\site-packages (from clearml) (2.31.0)\n",
      "Requirement already satisfied: six>=1.13.0 in c:\\users\\somes\\anaconda3\\lib\\site-packages (from clearml) (1.16.0)\n",
      "Requirement already satisfied: urllib3>=1.21.1 in c:\\users\\somes\\anaconda3\\lib\\site-packages (from clearml) (2.0.7)\n",
      "Requirement already satisfied: pyjwt<2.9.0,>=2.4.0 in c:\\users\\somes\\anaconda3\\lib\\site-packages (from clearml) (2.4.0)\n",
      "Requirement already satisfied: referencing<0.40 in c:\\users\\somes\\anaconda3\\lib\\site-packages (from clearml) (0.30.2)\n",
      "Collecting orderedmultidict>=1.0.1 (from furl>=2.0.0->clearml)\n",
      "  Downloading orderedmultidict-1.0.1-py2.py3-none-any.whl.metadata (1.3 kB)\n",
      "Requirement already satisfied: jsonschema-specifications>=2023.03.6 in c:\\users\\somes\\anaconda3\\lib\\site-packages (from jsonschema>=2.6.0->clearml) (2023.7.1)\n",
      "Requirement already satisfied: rpds-py>=0.7.1 in c:\\users\\somes\\anaconda3\\lib\\site-packages (from jsonschema>=2.6.0->clearml) (0.10.6)\n",
      "Requirement already satisfied: charset-normalizer<4,>=2 in c:\\users\\somes\\anaconda3\\lib\\site-packages (from requests>=2.20.0->clearml) (2.0.4)\n",
      "Requirement already satisfied: idna<4,>=2.5 in c:\\users\\somes\\anaconda3\\lib\\site-packages (from requests>=2.20.0->clearml) (3.4)\n",
      "Requirement already satisfied: certifi>=2017.4.17 in c:\\users\\somes\\anaconda3\\lib\\site-packages (from requests>=2.20.0->clearml) (2024.2.2)\n",
      "Downloading clearml-1.15.0-py2.py3-none-any.whl (1.1 MB)\n",
      "   ---------------------------------------- 0.0/1.1 MB ? eta -:--:--\n",
      "    --------------------------------------- 0.0/1.1 MB 682.7 kB/s eta 0:00:02\n",
      "   ------ --------------------------------- 0.2/1.1 MB 2.2 MB/s eta 0:00:01\n",
      "   --------------- ------------------------ 0.4/1.1 MB 3.4 MB/s eta 0:00:01\n",
      "   -------------------------- ------------- 0.8/1.1 MB 4.4 MB/s eta 0:00:01\n",
      "   ----------------------------------- ---- 1.0/1.1 MB 4.6 MB/s eta 0:00:01\n",
      "   ---------------------------------------- 1.1/1.1 MB 4.5 MB/s eta 0:00:00\n",
      "Downloading furl-2.1.3-py2.py3-none-any.whl (20 kB)\n",
      "Downloading pathlib2-2.3.7.post1-py2.py3-none-any.whl (18 kB)\n",
      "Downloading orderedmultidict-1.0.1-py2.py3-none-any.whl (11 kB)\n",
      "Installing collected packages: pathlib2, orderedmultidict, furl, clearml\n",
      "Successfully installed clearml-1.15.0 furl-2.1.3 orderedmultidict-1.0.1 pathlib2-2.3.7.post1\n"
     ]
    }
   ],
   "source": [
    "!pip install clearml"
   ]
  },
  {
   "cell_type": "code",
   "execution_count": 3,
   "id": "f8fcc03e-dc9e-467a-8f40-acfe130b6418",
   "metadata": {},
   "outputs": [
    {
     "name": "stdout",
     "output_type": "stream",
     "text": [
      "env: CLEARML_WEB_HOST=https://app.clear.ml\n",
      "env: CLEARML_API_HOST=https://api.clear.ml\n",
      "env: CLEARML_FILES_HOST=https://files.clear.ml\n",
      "env: CLEARML_API_ACCESS_KEY=91ICXLPB5BG1EN4LXKMO\n",
      "env: CLEARML_API_SECRET_KEY=f8haI0IWKYIGRidTamm2qZtuCFuRLsrnGPiL4F1kz9XsUrldwm\n"
     ]
    }
   ],
   "source": [
    "%env CLEARML_WEB_HOST=https://app.clear.ml\n",
    "%env CLEARML_API_HOST=https://api.clear.ml\n",
    "%env CLEARML_FILES_HOST=https://files.clear.ml\n",
    "%env CLEARML_API_ACCESS_KEY=91ICXLPB5BG1EN4LXKMO\n",
    "%env CLEARML_API_SECRET_KEY=f8haI0IWKYIGRidTamm2qZtuCFuRLsrnGPiL4F1kz9XsUrldwm"
   ]
  },
  {
   "cell_type": "code",
   "execution_count": 4,
   "id": "7c3e09f1-daf0-4a9d-8fc1-e7411c46a7f8",
   "metadata": {},
   "outputs": [
    {
     "name": "stdout",
     "output_type": "stream",
     "text": [
      "Mon Apr  8 19:40:47 2024       \n",
      "+-----------------------------------------------------------------------------------------+\n",
      "| NVIDIA-SMI 552.12                 Driver Version: 552.12         CUDA Version: 12.4     |\n",
      "|-----------------------------------------+------------------------+----------------------+\n",
      "| GPU  Name                     TCC/WDDM  | Bus-Id          Disp.A | Volatile Uncorr. ECC |\n",
      "| Fan  Temp   Perf          Pwr:Usage/Cap |           Memory-Usage | GPU-Util  Compute M. |\n",
      "|                                         |                        |               MIG M. |\n",
      "|=========================================+========================+======================|\n",
      "|   0  NVIDIA GeForce GTX 1060 ...  WDDM  |   00000000:01:00.0  On |                  N/A |\n",
      "| N/A   70C    P2             59W /   60W |    2466MiB /   6144MiB |    100%      Default |\n",
      "|                                         |                        |                  N/A |\n",
      "+-----------------------------------------+------------------------+----------------------+\n",
      "                                                                                         \n",
      "+-----------------------------------------------------------------------------------------+\n",
      "| Processes:                                                                              |\n",
      "|  GPU   GI   CI        PID   Type   Process name                              GPU Memory |\n",
      "|        ID   ID                                                               Usage      |\n",
      "|=========================================================================================|\n",
      "|    0   N/A  N/A      1508    C+G   ...crosoft\\Edge\\Application\\msedge.exe      N/A      |\n",
      "|    0   N/A  N/A      1600    C+G   ...B\\system_tray\\lghub_system_tray.exe      N/A      |\n",
      "|    0   N/A  N/A      1604    C+G   ...91.0_x64__8wekyb3d8bbwe\\GameBar.exe      N/A      |\n",
      "|    0   N/A  N/A      4452    C+G   ...1.0_x64__cv1g1gvanyjgm\\WhatsApp.exe      N/A      |\n",
      "|    0   N/A  N/A      4732    C+G   ...on\\123.0.2420.65\\msedgewebview2.exe      N/A      |\n",
      "|    0   N/A  N/A      8428    C+G   ...on\\wallpaper_engine\\wallpaper64.exe      N/A      |\n",
      "|    0   N/A  N/A      8756    C+G   ...__8wekyb3d8bbwe\\WindowsTerminal.exe      N/A      |\n",
      "|    0   N/A  N/A      9112    C+G   C:\\Windows\\explorer.exe                     N/A      |\n",
      "|    0   N/A  N/A      9952    C+G   ...2txyewy\\StartMenuExperienceHost.exe      N/A      |\n",
      "|    0   N/A  N/A     10128    C+G   ...nt.CBS_cw5n1h2txyewy\\SearchHost.exe      N/A      |\n",
      "|    0   N/A  N/A     11492    C+G   ...ekyb3d8bbwe\\PhoneExperienceHost.exe      N/A      |\n",
      "|    0   N/A  N/A     11912    C+G   ...GeForce Experience\\NVIDIA Share.exe      N/A      |\n",
      "|    0   N/A  N/A     12280    C+G   ...CBS_cw5n1h2txyewy\\TextInputHost.exe      N/A      |\n",
      "|    0   N/A  N/A     14200    C+G   ...ys\\WinUI3Apps\\PowerToys.Peek.UI.exe      N/A      |\n",
      "|    0   N/A  N/A     14232    C+G   ...werToys\\PowerToys.PowerLauncher.exe      N/A      |\n",
      "|    0   N/A  N/A     17708      C   ...5f-c123a0d4fbc2\\bins\\23.0\\miner.exe      N/A      |\n",
      "|    0   N/A  N/A     18684    C+G   ...f667h5kn2\\SupportAssistClientUI.exe      N/A      |\n",
      "|    0   N/A  N/A     19124    C+G   ...5n1h2txyewy\\ShellExperienceHost.exe      N/A      |\n",
      "+-----------------------------------------------------------------------------------------+\n"
     ]
    }
   ],
   "source": [
    "!nvidia-smi"
   ]
  },
  {
   "cell_type": "code",
   "execution_count": null,
   "id": "19732d82-6929-4d79-982f-be7dc69f0e29",
   "metadata": {},
   "outputs": [],
   "source": []
  }
 ],
 "metadata": {
  "kernelspec": {
   "display_name": "Python 3 (ipykernel)",
   "language": "python",
   "name": "python3"
  },
  "language_info": {
   "codemirror_mode": {
    "name": "ipython",
    "version": 3
   },
   "file_extension": ".py",
   "mimetype": "text/x-python",
   "name": "python",
   "nbconvert_exporter": "python",
   "pygments_lexer": "ipython3",
   "version": "3.11.7"
  }
 },
 "nbformat": 4,
 "nbformat_minor": 5
}
